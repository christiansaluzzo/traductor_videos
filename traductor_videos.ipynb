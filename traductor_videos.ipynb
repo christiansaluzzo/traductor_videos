{
 "cells": [
  {
   "cell_type": "markdown",
   "id": "7430e4bf",
   "metadata": {},
   "source": [
    "# 🎯 Objetivo\n",
    "\n",
    "Tomar un video .mp4 (en inglés), y obtener un nuevo .mp4 con audio doblado al español, manteniendo el mismo contenido y sincronía.\n",
    "\n",
    "\n",
    "# 🧩 Flujo general del script\n",
    "\n",
    "- 🎞️ Entrada: archivo .mp4 descargado (de Coursera, por ejemplo).\n",
    "\n",
    "- 🎧 Extraer audio original → .wav o .mp3\n",
    "\n",
    "- ✍️ Transcribir el audio (en inglés) con Whisper (OpenAI)\n",
    "\n",
    "- 🌎 Traducir texto al español (usando ChatGPT o DeepL)\n",
    "\n",
    "- 🗣️ Generar nueva voz en español (usando ElevenLabs o gTTS si querés algo gratuito)\n",
    "\n",
    "- 🎬 Reemplazar el audio original con el doblado → nuevo .mp4"
   ]
  },
  {
   "cell_type": "markdown",
   "id": "e5712962",
   "metadata": {},
   "source": [
    "### ⚙️ Requisitos técnicos\n",
    "\n",
    "- Instalá estos paquetes antes de correr el script:\n",
    "\n",
    "`pip install moviepy openai-whisper gtts deep-translator`\n",
    "\n",
    "\n",
    "⚠️ Si querés usar voces de alta calidad tipo natural (IA realista), te conviene usar la API de ElevenLabs o OpenAI TTS — puedo integrarlo en la siguiente versión."
   ]
  },
  {
   "cell_type": "code",
   "execution_count": 3,
   "id": "aa7d5a54",
   "metadata": {},
   "outputs": [
    {
     "ename": "TypeError",
     "evalue": "deprecated_version_of() got an unexpected keyword argument 'oldname'",
     "output_type": "error",
     "traceback": [
      "\u001b[31m---------------------------------------------------------------------------\u001b[39m",
      "\u001b[31mTypeError\u001b[39m                                 Traceback (most recent call last)",
      "\u001b[36mCell\u001b[39m\u001b[36m \u001b[39m\u001b[32mIn[3]\u001b[39m\u001b[32m, line 4\u001b[39m\n\u001b[32m      1\u001b[39m \u001b[38;5;66;03m# Versión vieja moviepy 1.0.3 NO ANDA\u001b[39;00m\n\u001b[32m      3\u001b[39m \u001b[38;5;28;01mimport\u001b[39;00m\u001b[38;5;250m \u001b[39m\u001b[34;01mos\u001b[39;00m\n\u001b[32m----> \u001b[39m\u001b[32m4\u001b[39m \u001b[38;5;28;01mfrom\u001b[39;00m\u001b[38;5;250m \u001b[39m\u001b[34;01mmoviepy\u001b[39;00m\u001b[34;01m.\u001b[39;00m\u001b[34;01meditor\u001b[39;00m\u001b[38;5;250m \u001b[39m\u001b[38;5;28;01mimport\u001b[39;00m VideoFileClip, AudioFileClip\n\u001b[32m      5\u001b[39m \u001b[38;5;28;01mimport\u001b[39;00m\u001b[38;5;250m \u001b[39m\u001b[34;01mwhisper\u001b[39;00m\n\u001b[32m      6\u001b[39m \u001b[38;5;28;01mfrom\u001b[39;00m\u001b[38;5;250m \u001b[39m\u001b[34;01mgtts\u001b[39;00m\u001b[38;5;250m \u001b[39m\u001b[38;5;28;01mimport\u001b[39;00m gTTS\n",
      "\u001b[36mFile \u001b[39m\u001b[32md:\\Desarrollos\\traductor_videos\\.env\\Lib\\site-packages\\moviepy\\editor.py:41\u001b[39m\n\u001b[32m     39\u001b[39m \u001b[38;5;28;01mfrom\u001b[39;00m\u001b[38;5;250m \u001b[39m\u001b[34;01m.\u001b[39;00m\u001b[34;01mvideo\u001b[39;00m\u001b[34;01m.\u001b[39;00m\u001b[34;01mVideoClip\u001b[39;00m\u001b[38;5;250m \u001b[39m\u001b[38;5;28;01mimport\u001b[39;00m VideoClip, ImageClip, ColorClip, TextClip\n\u001b[32m     40\u001b[39m \u001b[38;5;28;01mfrom\u001b[39;00m\u001b[38;5;250m \u001b[39m\u001b[34;01m.\u001b[39;00m\u001b[34;01mvideo\u001b[39;00m\u001b[34;01m.\u001b[39;00m\u001b[34;01mcompositing\u001b[39;00m\u001b[34;01m.\u001b[39;00m\u001b[34;01mCompositeVideoClip\u001b[39;00m\u001b[38;5;250m \u001b[39m\u001b[38;5;28;01mimport\u001b[39;00m CompositeVideoClip, clips_array\n\u001b[32m---> \u001b[39m\u001b[32m41\u001b[39m \u001b[38;5;28;01mfrom\u001b[39;00m\u001b[38;5;250m \u001b[39m\u001b[34;01m.\u001b[39;00m\u001b[34;01mvideo\u001b[39;00m\u001b[34;01m.\u001b[39;00m\u001b[34;01mcompositing\u001b[39;00m\u001b[34;01m.\u001b[39;00m\u001b[34;01mconcatenate\u001b[39;00m\u001b[38;5;250m \u001b[39m\u001b[38;5;28;01mimport\u001b[39;00m concatenate_videoclips, concatenate \u001b[38;5;66;03m# concatenate=deprecated\u001b[39;00m\n\u001b[32m     43\u001b[39m \u001b[38;5;28;01mfrom\u001b[39;00m\u001b[38;5;250m \u001b[39m\u001b[34;01m.\u001b[39;00m\u001b[34;01maudio\u001b[39;00m\u001b[34;01m.\u001b[39;00m\u001b[34;01mAudioClip\u001b[39;00m\u001b[38;5;250m \u001b[39m\u001b[38;5;28;01mimport\u001b[39;00m AudioClip, CompositeAudioClip, concatenate_audioclips\n\u001b[32m     44\u001b[39m \u001b[38;5;28;01mfrom\u001b[39;00m\u001b[38;5;250m \u001b[39m\u001b[34;01m.\u001b[39;00m\u001b[34;01maudio\u001b[39;00m\u001b[34;01m.\u001b[39;00m\u001b[34;01mio\u001b[39;00m\u001b[34;01m.\u001b[39;00m\u001b[34;01mAudioFileClip\u001b[39;00m\u001b[38;5;250m \u001b[39m\u001b[38;5;28;01mimport\u001b[39;00m AudioFileClip\n",
      "\u001b[36mFile \u001b[39m\u001b[32md:\\Desarrollos\\traductor_videos\\.env\\Lib\\site-packages\\moviepy\\video\\compositing\\concatenate.py:120\u001b[39m\n\u001b[32m    116\u001b[39m     result.fps = \u001b[38;5;28mmax\u001b[39m(fpss) \u001b[38;5;28;01mif\u001b[39;00m fpss \u001b[38;5;28;01melse\u001b[39;00m \u001b[38;5;28;01mNone\u001b[39;00m\n\u001b[32m    117\u001b[39m     \u001b[38;5;28;01mreturn\u001b[39;00m result\n\u001b[32m--> \u001b[39m\u001b[32m120\u001b[39m concatenate = \u001b[43mdeprecated_version_of\u001b[49m\u001b[43m(\u001b[49m\u001b[43mconcatenate_videoclips\u001b[49m\u001b[43m,\u001b[49m\n\u001b[32m    121\u001b[39m \u001b[43m                                    \u001b[49m\u001b[43moldname\u001b[49m\u001b[43m=\u001b[49m\u001b[33;43m\"\u001b[39;49m\u001b[33;43mconcatenate\u001b[39;49m\u001b[33;43m\"\u001b[39;49m\u001b[43m)\u001b[49m\n",
      "\u001b[31mTypeError\u001b[39m: deprecated_version_of() got an unexpected keyword argument 'oldname'"
     ]
    }
   ],
   "source": [
    "# Versión vieja moviepy 1.0.3 NO ANDA\n",
    "\n",
    "import os\n",
    "from moviepy.editor import VideoFileClip, AudioFileClip\n",
    "import whisper\n",
    "from gtts import gTTS\n",
    "from deep_translator import GoogleTranslator\n",
    "\n",
    "# === CONFIGURACIÓN ===\n",
    "VIDEO_PATH = \"/videos_originales/index.mp4\"\n",
    "OUTPUT_VIDEO = \"/videos_traducidos/index_traducido.mp4\"\n",
    "TEMP_AUDIO = \"audio_en.wav\"\n",
    "AUDIO_ES = \"audio_es.mp3\"\n",
    "\n",
    "# === 1. Extraer audio del video ===\n",
    "video = VideoFileClip(VIDEO_PATH)\n",
    "video.audio.write_audiofile(TEMP_AUDIO)\n",
    "\n",
    "# === 2. Transcribir audio con Whisper ===\n",
    "print(\"🎧 Transcribiendo audio con Whisper...\")\n",
    "model = whisper.load_model(\"base\")  # podés usar 'small' o 'medium' para mejor precisión\n",
    "result = model.transcribe(TEMP_AUDIO, language=\"en\")\n",
    "texto_en = result[\"text\"]\n",
    "\n",
    "# === 3. Traducir texto al español ===\n",
    "print(\"🌎 Traduciendo texto al español...\")\n",
    "texto_es = GoogleTranslator(source=\"en\", target=\"es\").translate(texto_en)\n",
    "\n",
    "# === 4. Generar audio en español (voz IA básica) ===\n",
    "print(\"🗣️ Generando audio en español con gTTS...\")\n",
    "tts = gTTS(text=texto_es, lang=\"es\")\n",
    "tts.save(AUDIO_ES)\n",
    "\n",
    "# === 5. Combinar nuevo audio con el video ===\n",
    "print(\"🎬 Creando video final con audio en español...\")\n",
    "audio_es = AudioFileClip(AUDIO_ES)\n",
    "video_final = video.set_audio(audio_es)\n",
    "video_final.write_videofile(OUTPUT_VIDEO, codec=\"libx264\", audio_codec=\"aac\")\n",
    "\n",
    "print(\"✅ Proceso completo. Video generado:\", OUTPUT_VIDEO)\n"
   ]
  },
  {
   "cell_type": "code",
   "execution_count": 3,
   "id": "b4d21f1f",
   "metadata": {},
   "outputs": [
    {
     "name": "stdout",
     "output_type": "stream",
     "text": [
      "Note: you may need to restart the kernel to use updated packages.\n"
     ]
    },
    {
     "name": "stderr",
     "output_type": "stream",
     "text": [
      "\n",
      "[notice] A new release of pip is available: 24.0 -> 25.3\n",
      "[notice] To update, run: python.exe -m pip install --upgrade pip\n"
     ]
    }
   ],
   "source": [
    "pip list | findstr \"moviepy whisper gtts deep-translator\""
   ]
  }
 ],
 "metadata": {
  "kernelspec": {
   "display_name": ".env",
   "language": "python",
   "name": "python3"
  },
  "language_info": {
   "codemirror_mode": {
    "name": "ipython",
    "version": 3
   },
   "file_extension": ".py",
   "mimetype": "text/x-python",
   "name": "python",
   "nbconvert_exporter": "python",
   "pygments_lexer": "ipython3",
   "version": "3.12.3"
  }
 },
 "nbformat": 4,
 "nbformat_minor": 5
}
